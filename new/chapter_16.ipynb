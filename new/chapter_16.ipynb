{
 "cells": [
  {
   "cell_type": "markdown",
   "id": "18095fa5",
   "metadata": {},
   "source": [
    "## 코드로 보는 맘바"
   ]
  },
  {
   "cell_type": "code",
   "execution_count": null,
   "id": "142cd96d",
   "metadata": {},
   "outputs": [],
   "source": [
    "import torch\n",
    "import torch.nn as nn\n",
    "import torch.Functional as F\n",
    "import torch.einsum as einsum"
   ]
  },
  {
   "cell_type": "code",
   "execution_count": null,
   "id": "4411a243",
   "metadata": {},
   "outputs": [],
   "source": [
    "class MambaBlock(nn.Module):\n",
    "    def __init__(self, args:ModelArgs):\n",
    "        super(MambaBlock).__init__()\n",
    "        self.args = args\n",
    "        self.in_proj = nn.Linear(args.d_model, args.d_inner*2, bias=args.bias)\n",
    "        \n",
    "        self.conv1d = nn.Conv1d(\n",
    "            in_channels=args.d_inner,\n",
    "            out_channels=args.d_inner,\n",
    "            bias=args.conv_bias,\n",
    "            kernel_size=args.d_conv,\n",
    "            groups=args.d_inner,\n",
    "            padding=args.d_conv-1\n",
    "        )\n",
    "        \n",
    "        #ssm 내부에서 사용\n",
    "        #입력 X를 확장해 Δ, B, C를 위한 벡터를 생성하는 층\n",
    "        self.x_proj = nn.Linear(args.d_inner, args.dt_rank+args.d_state*2, bias=False)\n",
    "        \n",
    "        #dt_rank 차원을 d_inner 차워으로 확장해 Δ를 생성하는 층\n",
    "        self.dt_proj = nn.Linear(args.dt_rank, args.d_inner, bias=True)\n",
    "        A = repeat(torch.arange(1, args.d_state+1),'d_state -> d_model d_state', d_args=d_inner)\n",
    "        self.A_log = nn.Parameter(torch.log(A))\n",
    "        self.D = nn.Parameter(torch.ones(args.d_inner))\n",
    "        self.out_proj = nn.Linear(args.d_inner, args.d_model, bias=args.bias)\n",
    "        \n",
    "    def forward(self, x):\n",
    "        b, l, d_model = x.shape\n",
    "        x_and_res = self.in_proj(x) #shape (b,l,2*d_inner)\n",
    "        x,res = x_and_res.split(split_size=[self.args.d_inner, self.args.d_inner], dim=-1)\n",
    "        x = rearrange(x, 'b l d_inner -> b d_inner l')\n",
    "        x = self.conv1d(x)[:,:,:l]\n",
    "        x = rearrange(x, 'b d_inner l -> b l d_inner')\n",
    "        x = F.silu(x)\n",
    "        y = self.ssm(x)\n",
    "        y = y*F.silu(res)\n",
    "        output = self.out_proj(y)\n",
    "        return output\n",
    "    \n",
    "    def ssm(self,x):\n",
    "        d_inner, d_state = self.A_log.shape\n",
    "        A = -torch.exp(self.A_log.float()) #shape (d_inner,d_state)\n",
    "        D = self.D.float()\n",
    "        x_dbl = self.x_proj(x) # (b,l,dt_rank + 2*d_state)\n",
    "        delta, B, C = x_dbl.split(split_size=[self.args.dt_rank,d_state,d_state], dim=-1)\n",
    "        delta = F.softplus(self.dt_proj(delta)) #(b,l,d_inner)\n",
    "        y = self.selective_scan(x, delta, A, B, C, D)\n",
    "        return y\n",
    "    \n",
    "    def selective_scan(self, x, delta, A, B, C, D):\n",
    "        b, l ,d_inner = x.shape\n",
    "        d_state = A.shape[1]\n",
    "        \n",
    "        deltaA = torch.exp(einsum(delta, A, 'b l d_inner, d_inner d_state -> b l d_inner d_state'))\n",
    "        deltaB_x = einsum(delta, B, x, 'b l d_inner, b l d_state, b l d_inner -> b l d_inner d_state')\n",
    "        h = torch.zeros((b, d_in, d_state), device=deltaA.device)\n",
    "        \n",
    "        ys = []\n",
    "        for i in range(l):\n",
    "            h = deltaA[:,i]*h + deltaB_x[:,i]\n",
    "            y = einsum(h,C[:,i,:], ' b d_inner d_state, b d_state -> b_d_inner')\n",
    "            ys.append(y)\n",
    "        y = torch.stack(ys, dim=1) #shape (b,l,d_in)\n",
    "        y = y + x*D\n",
    "        return y"
   ]
  }
 ],
 "metadata": {
  "kernelspec": {
   "display_name": "Python 3 (ipykernel)",
   "language": "python",
   "name": "python3"
  },
  "language_info": {
   "codemirror_mode": {
    "name": "ipython",
    "version": 3
   },
   "file_extension": ".py",
   "mimetype": "text/x-python",
   "name": "python",
   "nbconvert_exporter": "python",
   "pygments_lexer": "ipython3",
   "version": "3.9.13"
  }
 },
 "nbformat": 4,
 "nbformat_minor": 5
}
